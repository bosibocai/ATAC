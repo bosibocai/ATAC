{
 "cells": [
  {
   "cell_type": "code",
   "execution_count": 1,
   "metadata": {
    "vscode": {
     "languageId": "r"
    }
   },
   "outputs": [
    {
     "name": "stderr",
     "output_type": "stream",
     "text": [
      "Loading required package: SeuratObject\n",
      "\n",
      "Loading required package: sp\n",
      "\n",
      "‘SeuratObject’ was built with package ‘Matrix’ 1.6.4 but the current\n",
      "version is 1.6.5; it is recomended that you reinstall ‘SeuratObject’ as\n",
      "the ABI for ‘Matrix’ may have changed\n",
      "\n",
      "\n",
      "Attaching package: ‘SeuratObject’\n",
      "\n",
      "\n",
      "The following object is masked from ‘package:base’:\n",
      "\n",
      "    intersect\n",
      "\n",
      "\n",
      "\n",
      "Attaching package: ‘dplyr’\n",
      "\n",
      "\n",
      "The following objects are masked from ‘package:stats’:\n",
      "\n",
      "    filter, lag\n",
      "\n",
      "\n",
      "The following objects are masked from ‘package:base’:\n",
      "\n",
      "    intersect, setdiff, setequal, union\n",
      "\n",
      "\n",
      "Loading required package: BiocGenerics\n",
      "\n",
      "\n",
      "Attaching package: ‘BiocGenerics’\n",
      "\n",
      "\n",
      "The following objects are masked from ‘package:dplyr’:\n",
      "\n",
      "    combine, intersect, setdiff, union\n",
      "\n",
      "\n",
      "The following object is masked from ‘package:SeuratObject’:\n",
      "\n",
      "    intersect\n",
      "\n",
      "\n",
      "The following objects are masked from ‘package:stats’:\n",
      "\n",
      "    IQR, mad, sd, var, xtabs\n",
      "\n",
      "\n",
      "The following objects are masked from ‘package:base’:\n",
      "\n",
      "    anyDuplicated, aperm, append, as.data.frame, basename, cbind,\n",
      "    colnames, dirname, do.call, duplicated, eval, evalq, Filter, Find,\n",
      "    get, grep, grepl, intersect, is.unsorted, lapply, Map, mapply,\n",
      "    match, mget, order, paste, pmax, pmax.int, pmin, pmin.int,\n",
      "    Position, rank, rbind, Reduce, rownames, sapply, setdiff, sort,\n",
      "    table, tapply, union, unique, unsplit, which.max, which.min\n",
      "\n",
      "\n",
      "Loading required package: S4Vectors\n",
      "\n",
      "Loading required package: stats4\n",
      "\n",
      "\n",
      "Attaching package: ‘S4Vectors’\n",
      "\n",
      "\n",
      "The following object is masked from ‘package:hdf5r’:\n",
      "\n",
      "    values\n",
      "\n",
      "\n",
      "The following objects are masked from ‘package:dplyr’:\n",
      "\n",
      "    first, rename\n",
      "\n",
      "\n",
      "The following object is masked from ‘package:utils’:\n",
      "\n",
      "    findMatches\n",
      "\n",
      "\n",
      "The following objects are masked from ‘package:base’:\n",
      "\n",
      "    expand.grid, I, unname\n",
      "\n",
      "\n",
      "Loading required package: IRanges\n",
      "\n",
      "\n",
      "Attaching package: ‘IRanges’\n",
      "\n",
      "\n",
      "The following objects are masked from ‘package:dplyr’:\n",
      "\n",
      "    collapse, desc, slice\n",
      "\n",
      "\n",
      "The following object is masked from ‘package:sp’:\n",
      "\n",
      "    %over%\n",
      "\n",
      "\n",
      "Loading required package: ensembldb\n",
      "\n",
      "Loading required package: GenomicRanges\n",
      "\n",
      "Loading required package: GenomicFeatures\n",
      "\n",
      "Loading required package: AnnotationDbi\n",
      "\n",
      "Loading required package: Biobase\n",
      "\n",
      "Welcome to Bioconductor\n",
      "\n",
      "    Vignettes contain introductory material; view with\n",
      "    'browseVignettes()'. To cite Bioconductor, see\n",
      "    'citation(\"Biobase\")', and for packages 'citation(\"pkgname\")'.\n",
      "\n",
      "\n",
      "\n",
      "Attaching package: ‘AnnotationDbi’\n",
      "\n",
      "\n",
      "The following object is masked from ‘package:dplyr’:\n",
      "\n",
      "    select\n",
      "\n",
      "\n",
      "Loading required package: AnnotationFilter\n",
      "\n",
      "\n",
      "Attaching package: 'ensembldb'\n",
      "\n",
      "\n",
      "The following object is masked from 'package:dplyr':\n",
      "\n",
      "    filter\n",
      "\n",
      "\n",
      "The following object is masked from 'package:stats':\n",
      "\n",
      "    filter\n",
      "\n",
      "\n",
      "\n",
      "Attaching package: 'future'\n",
      "\n",
      "\n",
      "The following object is masked from 'package:AnnotationFilter':\n",
      "\n",
      "    value\n",
      "\n",
      "\n"
     ]
    }
   ],
   "source": [
    "library(Signac)\n",
    "library(Seurat)\n",
    "library(ggplot2)\n",
    "library(dplyr)\n",
    "library(patchwork)\n",
    "library(hdf5r)\n",
    "library(readr)\n",
    "library(GenomeInfoDb)\n",
    "library(EnsDb.Hsapiens.v86)\n",
    "library(future)\n",
    "plan(\"multicore\", workers = 32)\n",
    "options(future.globals.maxSize = 8000 * 1024^2)"
   ]
  },
  {
   "cell_type": "markdown",
   "metadata": {},
   "source": [
    "- 读取scRNA-seq、scATAC-seq\n",
    "- FindTransferAnchors\n",
    "- TransferData\n",
    "- 将预测标签添加到atac对象中\n",
    "- 保存（./data/cellType文件夹中）"
   ]
  },
  {
   "cell_type": "code",
   "execution_count": 2,
   "metadata": {
    "vscode": {
     "languageId": "r"
    }
   },
   "outputs": [],
   "source": [
    "batches <- c(\"10N\", '10T', '11T', '12N', '12T', '13T', '19T', '20T', '21T', '22T')"
   ]
  },
  {
   "cell_type": "code",
   "execution_count": 9,
   "metadata": {
    "vscode": {
     "languageId": "r"
    }
   },
   "outputs": [
    {
     "name": "stdout",
     "output_type": "stream",
     "text": [
      "[1] \"start processing batch:10N\"\n",
      "[1] \"./data/10N.rds\"\n",
      "[1] \"../scRNA/data/10N.rds\"\n",
      "[1] \"./data/predictedCellType/10N.rds\"\n"
     ]
    },
    {
     "name": "stderr",
     "output_type": "stream",
     "text": [
      "Running CCA\n",
      "\n",
      "Merging objects\n",
      "\n",
      "Finding neighborhoods\n",
      "\n",
      "Finding anchors\n",
      "\n",
      "\tFound 16258 anchors\n",
      "\n",
      "Finding integration vectors\n",
      "\n",
      "Finding integration vector weights\n",
      "\n",
      "Predicting cell labels\n",
      "\n"
     ]
    },
    {
     "name": "stdout",
     "output_type": "stream",
     "text": [
      "[1] \"start processing batch:10T\"\n",
      "[1] \"./data/10T.rds\"\n",
      "[1] \"../scRNA/data/10T.rds\"\n",
      "[1] \"./data/predictedCellType/10T.rds\"\n"
     ]
    },
    {
     "name": "stderr",
     "output_type": "stream",
     "text": [
      "Running CCA\n",
      "\n",
      "Merging objects\n",
      "\n",
      "Finding neighborhoods\n",
      "\n",
      "Finding anchors\n",
      "\n",
      "\tFound 22862 anchors\n",
      "\n",
      "Finding integration vectors\n",
      "\n",
      "Finding integration vector weights\n",
      "\n",
      "Predicting cell labels\n",
      "\n"
     ]
    },
    {
     "name": "stdout",
     "output_type": "stream",
     "text": [
      "[1] \"start processing batch:11T\"\n",
      "[1] \"./data/11T.rds\"\n",
      "[1] \"../scRNA/data/11T.rds\"\n",
      "[1] \"./data/predictedCellType/11T.rds\"\n"
     ]
    },
    {
     "name": "stderr",
     "output_type": "stream",
     "text": [
      "Running CCA\n",
      "\n",
      "Merging objects\n",
      "\n",
      "Finding neighborhoods\n",
      "\n",
      "Finding anchors\n",
      "\n",
      "\tFound 11876 anchors\n",
      "\n",
      "Finding integration vectors\n",
      "\n",
      "Finding integration vector weights\n",
      "\n",
      "Predicting cell labels\n",
      "\n"
     ]
    },
    {
     "name": "stdout",
     "output_type": "stream",
     "text": [
      "[1] \"start processing batch:12N\"\n",
      "[1] \"./data/12N.rds\"\n",
      "[1] \"../scRNA/data/12N.rds\"\n",
      "[1] \"./data/predictedCellType/12N.rds\"\n"
     ]
    },
    {
     "name": "stderr",
     "output_type": "stream",
     "text": [
      "Running CCA\n",
      "\n",
      "Merging objects\n",
      "\n",
      "Finding neighborhoods\n",
      "\n",
      "Finding anchors\n",
      "\n",
      "\tFound 9816 anchors\n",
      "\n",
      "Finding integration vectors\n",
      "\n",
      "Finding integration vector weights\n",
      "\n",
      "Predicting cell labels\n",
      "\n"
     ]
    },
    {
     "name": "stdout",
     "output_type": "stream",
     "text": [
      "[1] \"start processing batch:12T\"\n",
      "[1] \"./data/12T.rds\"\n",
      "[1] \"../scRNA/data/12T.rds\"\n",
      "[1] \"./data/predictedCellType/12T.rds\"\n"
     ]
    },
    {
     "name": "stderr",
     "output_type": "stream",
     "text": [
      "Running CCA\n",
      "\n",
      "Merging objects\n",
      "\n",
      "Finding neighborhoods\n",
      "\n",
      "Finding anchors\n",
      "\n",
      "\tFound 11474 anchors\n",
      "\n",
      "Finding integration vectors\n",
      "\n",
      "Finding integration vector weights\n",
      "\n",
      "Predicting cell labels\n",
      "\n"
     ]
    },
    {
     "name": "stdout",
     "output_type": "stream",
     "text": [
      "[1] \"start processing batch:13T\"\n",
      "[1] \"./data/13T.rds\"\n",
      "[1] \"../scRNA/data/13T.rds\"\n",
      "[1] \"./data/predictedCellType/13T.rds\"\n"
     ]
    },
    {
     "name": "stderr",
     "output_type": "stream",
     "text": [
      "Running CCA\n",
      "\n",
      "Merging objects\n",
      "\n",
      "Finding neighborhoods\n",
      "\n",
      "Finding anchors\n",
      "\n",
      "\tFound 13306 anchors\n",
      "\n",
      "Finding integration vectors\n",
      "\n",
      "Finding integration vector weights\n",
      "\n",
      "Predicting cell labels\n",
      "\n"
     ]
    },
    {
     "name": "stdout",
     "output_type": "stream",
     "text": [
      "[1] \"start processing batch:19T\"\n",
      "[1] \"./data/19T.rds\"\n",
      "[1] \"../scRNA/data/19T.rds\"\n",
      "[1] \"./data/predictedCellType/19T.rds\"\n"
     ]
    },
    {
     "name": "stderr",
     "output_type": "stream",
     "text": [
      "Running CCA\n",
      "\n",
      "Merging objects\n",
      "\n",
      "Finding neighborhoods\n",
      "\n",
      "Finding anchors\n",
      "\n",
      "\tFound 13750 anchors\n",
      "\n",
      "Finding integration vectors\n",
      "\n",
      "Finding integration vector weights\n",
      "\n",
      "Predicting cell labels\n",
      "\n"
     ]
    },
    {
     "name": "stdout",
     "output_type": "stream",
     "text": [
      "[1] \"start processing batch:20T\"\n",
      "[1] \"./data/20T.rds\"\n",
      "[1] \"../scRNA/data/20T.rds\"\n",
      "[1] \"./data/predictedCellType/20T.rds\"\n"
     ]
    },
    {
     "name": "stderr",
     "output_type": "stream",
     "text": [
      "Running CCA\n",
      "\n",
      "Merging objects\n",
      "\n",
      "Finding neighborhoods\n",
      "\n",
      "Finding anchors\n",
      "\n",
      "\tFound 13450 anchors\n",
      "\n",
      "Finding integration vectors\n",
      "\n",
      "Finding integration vector weights\n",
      "\n",
      "Predicting cell labels\n",
      "\n"
     ]
    },
    {
     "name": "stdout",
     "output_type": "stream",
     "text": [
      "[1] \"start processing batch:21T\"\n",
      "[1] \"./data/21T.rds\"\n",
      "[1] \"../scRNA/data/21T.rds\"\n",
      "[1] \"./data/predictedCellType/21T.rds\"\n"
     ]
    },
    {
     "name": "stderr",
     "output_type": "stream",
     "text": [
      "Running CCA\n",
      "\n",
      "Merging objects\n",
      "\n",
      "Finding neighborhoods\n",
      "\n",
      "Finding anchors\n",
      "\n",
      "\tFound 12579 anchors\n",
      "\n",
      "Finding integration vectors\n",
      "\n",
      "Finding integration vector weights\n",
      "\n",
      "Predicting cell labels\n",
      "\n"
     ]
    },
    {
     "name": "stdout",
     "output_type": "stream",
     "text": [
      "[1] \"start processing batch:22T\"\n",
      "[1] \"./data/22T.rds\"\n",
      "[1] \"../scRNA/data/22T.rds\"\n",
      "[1] \"./data/predictedCellType/22T.rds\"\n"
     ]
    },
    {
     "name": "stderr",
     "output_type": "stream",
     "text": [
      "Running CCA\n",
      "\n",
      "Merging objects\n",
      "\n",
      "Finding neighborhoods\n",
      "\n",
      "Finding anchors\n",
      "\n",
      "\tFound 16759 anchors\n",
      "\n",
      "Finding integration vectors\n",
      "\n",
      "Finding integration vector weights\n",
      "\n",
      "Predicting cell labels\n",
      "\n"
     ]
    }
   ],
   "source": [
    "for (batch in batches) {\n",
    "    print(paste0(\"start processing batch:\",batch))\n",
    "    ATAC_filePath = paste0(\"./data/\",batch,\".rds\")\n",
    "    RNA_filePath = paste0(\"../scRNA/data/\",batch,\".rds\")\n",
    "    savePath = paste0(\"./data/predictedCellType/\",batch,\".rds\")\n",
    "    print(ATAC_filePath)\n",
    "    print(RNA_filePath)\n",
    "    print(savePath)\n",
    "\n",
    "    # 读取atac数据\n",
    "    atac <- readRDS(ATAC_filePath)\n",
    "    atac\n",
    "\n",
    "    # 读取rna数据\n",
    "    rna <- readRDS(RNA_filePath)\n",
    "    rna\n",
    "    \n",
    "    DefaultAssay(atac) <- \"RNA\"\n",
    "    DefaultAssay(rna) <- \"RNA\"\n",
    "\n",
    "    # 找锚点\n",
    "    transfer.anchors <- FindTransferAnchors(\n",
    "        reference = rna,\n",
    "        query = atac,\n",
    "        reference.assay = \"RNA\",\n",
    "        query.assay = \"RNA\",\n",
    "        reduction = \"cca\"\n",
    "    )\n",
    "\n",
    "    # 标签转移\n",
    "    predicted.labels <- TransferData(\n",
    "        anchorset = transfer.anchors, \n",
    "        refdata = rna$majorType, \n",
    "        weight.reduction = atac[['lsi']],\n",
    "        dims = 2:30\n",
    "    )   \n",
    "\n",
    "    # 将预测标签添加到atac对象中\n",
    "    atac <- AddMetaData(\n",
    "        object = atac, \n",
    "        metadata = predicted.labels, \n",
    "        col.name = \"predicted.id\"\n",
    "    )\n",
    "\n",
    "    # 保存预测结果\n",
    "    saveRDS(atac, file = savePath)\n",
    "\n",
    "}"
   ]
  }
 ],
 "metadata": {
  "kernelspec": {
   "display_name": "R",
   "language": "R",
   "name": "ir"
  },
  "language_info": {
   "codemirror_mode": "r",
   "file_extension": ".r",
   "mimetype": "text/x-r-source",
   "name": "R",
   "pygments_lexer": "r",
   "version": "4.3.1"
  }
 },
 "nbformat": 4,
 "nbformat_minor": 2
}
